{
 "cells": [
  {
   "cell_type": "code",
   "execution_count": 3,
   "metadata": {
    "colab": {
     "base_uri": "https://localhost:8080/"
    },
    "executionInfo": {
     "elapsed": 4,
     "status": "ok",
     "timestamp": 1756636467086,
     "user": {
      "displayName": "Bara Paramarta Widanoto",
      "userId": "08865982250826882709"
     },
     "user_tz": -420
    },
    "id": "Aa_7fSg9rZba",
    "outputId": "b4271c6d-d01f-4e7c-a3f4-031240838eb8"
   },
   "outputs": [
    {
     "name": "stdout",
     "output_type": "stream",
     "text": [
      "Nama:  Bara Paramarta Widanoto\n",
      "Umur:  19 tahun\n",
      "Berat:  59.8 Kg\n"
     ]
    }
   ],
   "source": [
    "nama = \"Bara Paramarta Widanoto\"\n",
    "umur = 19\n",
    "berat = 59.8\n",
    "\n",
    "print(\"Nama: \", nama)\n",
    "print(\"Umur: \", umur, \"tahun\")\n",
    "print(\"Berat: \", berat, \"Kg\")"
   ]
  },
  {
   "cell_type": "code",
   "execution_count": 1,
   "metadata": {
    "colab": {
     "base_uri": "https://localhost:8080/"
    },
    "executionInfo": {
     "elapsed": 4,
     "status": "ok",
     "timestamp": 1756637086872,
     "user": {
      "displayName": "Bara Paramarta Widanoto",
      "userId": "08865982250826882709"
     },
     "user_tz": -420
    },
    "id": "lmfxzqcSsP8O",
    "outputId": "af4e3278-3fbb-44f0-982b-5cbbb11bab3d"
   },
   "outputs": [
    {
     "name": "stdout",
     "output_type": "stream",
     "text": [
      "Awal:  123 <class 'str'> Jadi:  123 <class 'int'>\n",
      "Awal:  45.67 <class 'float'> Jadi:  45 <class 'int'>\n",
      "Awal:  89 <class 'int'> Jadi:  89.0 <class 'float'>\n",
      "Awal:  89 <class 'int'> Jadi:  89 <class 'str'>\n"
     ]
    }
   ],
   "source": [
    "angka_string = \"123\"\n",
    "angka_float = 45.67\n",
    "angka_integer = 89\n",
    "\n",
    "#angka_string menjadi integer\n",
    "int_1 = int(angka_string)\n",
    "print(\"Awal: \", angka_string, type(angka_string), \"Jadi: \", int_1, type(int_1),)\n",
    "\n",
    "#angka_float menjadi integer\n",
    "int_2 = int(angka_float)\n",
    "print(\"Awal: \", angka_float, type(angka_float), \"Jadi: \", int_2, type(int_2),)\n",
    "\n",
    "#angka_integer menjadi float\n",
    "float_baru = float(angka_integer)\n",
    "print(\"Awal: \", angka_integer, type(angka_integer), \"Jadi: \", float_baru, type(float_baru),)\n",
    "\n",
    "#angka_integer menjadi string\n",
    "str_baru = str(angka_integer)\n",
    "print(\"Awal: \", angka_integer, type(angka_integer), \"Jadi: \", str_baru, type(str_baru),)"
   ]
  },
  {
   "cell_type": "code",
   "execution_count": 18,
   "metadata": {
    "colab": {
     "base_uri": "https://localhost:8080/"
    },
    "executionInfo": {
     "elapsed": 16475,
     "status": "ok",
     "timestamp": 1756637444767,
     "user": {
      "displayName": "Bara Paramarta Widanoto",
      "userId": "08865982250826882709"
     },
     "user_tz": -420
    },
    "id": "rTtTIuCKuuD7",
    "outputId": "cfa697c8-8053-46d8-f4e7-98a66b110b01"
   },
   "outputs": [
    {
     "name": "stdout",
     "output_type": "stream",
     "text": [
      "Masukkan usia anda: 19\n",
      "Masukkan tinggi badan anda: 175\n",
      "Masukkan nama anda: Bara\n"
     ]
    }
   ],
   "source": [
    "usia = int(input(\"Masukkan usia anda: \"))\n",
    "tinggi_badan = float(input(\"Masukkan tinggi badan anda: \"))\n",
    "nama = str(input(\"Masukkan nama anda: \"))"
   ]
  }
 ],
 "metadata": {
  "colab": {
   "authorship_tag": "ABX9TyP/xrGIR4N0/ELB7gunBJ9x",
   "provenance": []
  },
  "kernelspec": {
   "display_name": "Python 3",
   "name": "python3"
  },
  "language_info": {
   "codemirror_mode": {
    "name": "ipython",
    "version": 3
   },
   "file_extension": ".py",
   "mimetype": "text/x-python",
   "name": "python",
   "nbconvert_exporter": "python",
   "pygments_lexer": "ipython3",
   "version": "3.13.5"
  }
 },
 "nbformat": 4,
 "nbformat_minor": 0
}
